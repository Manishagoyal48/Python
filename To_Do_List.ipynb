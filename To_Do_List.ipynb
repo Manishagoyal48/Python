{
  "cells": [
    {
      "cell_type": "markdown",
      "metadata": {
        "id": "view-in-github",
        "colab_type": "text"
      },
      "source": [
        "<a href=\"https://colab.research.google.com/github/Manishagoyal48/Python/blob/main/To_Do_List.ipynb\" target=\"_parent\"><img src=\"https://colab.research.google.com/assets/colab-badge.svg\" alt=\"Open In Colab\"/></a>"
      ]
    },
    {
      "cell_type": "code",
      "execution_count": null,
      "metadata": {
        "colab": {
          "base_uri": "https://localhost:8080/"
        },
        "id": "1KtfQY-Kr3Qy",
        "outputId": "e3d31582-4c56-4118-a6fb-15dbc44afedf"
      },
      "outputs": [
        {
          "output_type": "stream",
          "name": "stdout",
          "text": [
            "\n",
            "==To-Do List==\n",
            "1. Add Task\n",
            "2. Show Tasks\n",
            "3. Mark Task as Done\n",
            "4. Exit\n",
            "Enter your choice: 1\n",
            "\n",
            "How may task you want to add: 1\n",
            "Enter the task: Wake Up At 5:00Am\n",
            "Task added!\n",
            "\n",
            "==To-Do List==\n",
            "1. Add Task\n",
            "2. Show Tasks\n",
            "3. Mark Task as Done\n",
            "4. Exit\n",
            "Enter your choice: 2\n",
            "\n",
            "Tasks:\n",
            "1. Wake Up At 5:00Am - Not Done\n",
            "\n",
            "==To-Do List==\n",
            "1. Add Task\n",
            "2. Show Tasks\n",
            "3. Mark Task as Done\n",
            "4. Exit\n",
            "Enter your choice: 3\n",
            "Enter the task number to mark as done: 1\n",
            "Task marked as done!\n",
            "\n",
            "==To-Do List==\n",
            "1. Add Task\n",
            "2. Show Tasks\n",
            "3. Mark Task as Done\n",
            "4. Exit\n",
            "Enter your choice: 4\n",
            "Exiting the To-Do List.\n"
          ]
        }
      ],
      "source": [
        "def main():\n",
        "    tasks = []\n",
        "\n",
        "    while True:\n",
        "        print(\"\\n==To-Do List==\")\n",
        "        print(\"1. Add Task\")\n",
        "        print(\"2. Show Tasks\")\n",
        "        print(\"3. Mark Task as Done\")\n",
        "        print(\"4. Exit\")\n",
        "\n",
        "        choice = input(\"Enter your choice: \")\n",
        "\n",
        "        if choice == '1':\n",
        "            print()\n",
        "            n_tasks = int(input(\"How may task you want to add: \"))\n",
        "\n",
        "            for i in range(n_tasks):\n",
        "                task = input(\"Enter the task: \")\n",
        "                tasks.append({\"task\": task, \"done\": False})\n",
        "                print(\"Task added!\")\n",
        "\n",
        "        elif choice == '2':\n",
        "            print(\"\\nTasks:\")\n",
        "            for index, task in enumerate(tasks):\n",
        "                status = \"Done\" if task[\"done\"] else \"Not Done\"\n",
        "                print(f\"{index + 1}. {task['task']} - {status}\")\n",
        "\n",
        "        elif choice == '3':\n",
        "            task_index = int(input(\"Enter the task number to mark as done: \")) - 1\n",
        "            if 0 <= task_index < len(tasks):\n",
        "                tasks[task_index][\"done\"] = True\n",
        "                print(\"Task marked as done!\")\n",
        "            else:\n",
        "                print(\"Invalid task number.\")\n",
        "\n",
        "        elif choice == '4':\n",
        "            print(\"Exiting the To-Do List.\")\n",
        "            break\n",
        "\n",
        "        else:\n",
        "            print(\"Invalid choice. Please try again.\")\n",
        "\n",
        "if __name__ == \"__main__\":\n",
        "    main()"
      ]
    },
    {
      "cell_type": "code",
      "execution_count": null,
      "metadata": {
        "id": "LBh7eedFuZyA"
      },
      "outputs": [],
      "source": []
    }
  ],
  "metadata": {
    "colab": {
      "provenance": [],
      "authorship_tag": "ABX9TyNsy1OqAivli3O/OJaXWG3/",
      "include_colab_link": true
    },
    "kernelspec": {
      "display_name": "Python 3",
      "name": "python3"
    },
    "language_info": {
      "name": "python"
    }
  },
  "nbformat": 4,
  "nbformat_minor": 0
}